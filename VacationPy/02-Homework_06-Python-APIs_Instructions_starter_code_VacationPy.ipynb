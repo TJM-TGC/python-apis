{
 "cells": [
  {
   "cell_type": "markdown",
   "metadata": {},
   "source": [
    "# VacationPy\n",
    "----\n",
    "\n",
    "#### Note\n",
    "* Keep an eye on your API usage. Use https://developers.google.com/maps/reporting/gmp-reporting as reference for how to monitor your usage and billing.\n",
    "\n",
    "* Instructions have been included for each segment. You do not have to follow them exactly, but they are included to help you think through the steps."
   ]
  },
  {
   "cell_type": "code",
   "execution_count": 3,
   "metadata": {},
   "outputs": [],
   "source": [
    "# Dependencies and Setup\n",
    "import matplotlib.pyplot as plt\n",
    "import pandas as pd\n",
    "import numpy as np\n",
    "import requests\n",
    "import gmaps\n",
    "import os\n",
    "\n",
    "# Import API key\n",
    "from api_keys import g_key"
   ]
  },
  {
   "cell_type": "markdown",
   "metadata": {},
   "source": [
    "### Store Part I results into DataFrame\n",
    "* Load the csv exported in Part I to a DataFrame"
   ]
  },
  {
   "cell_type": "code",
   "execution_count": 12,
   "metadata": {},
   "outputs": [
    {
     "data": {
      "text/html": [
       "<div>\n",
       "<style scoped>\n",
       "    .dataframe tbody tr th:only-of-type {\n",
       "        vertical-align: middle;\n",
       "    }\n",
       "\n",
       "    .dataframe tbody tr th {\n",
       "        vertical-align: top;\n",
       "    }\n",
       "\n",
       "    .dataframe thead th {\n",
       "        text-align: right;\n",
       "    }\n",
       "</style>\n",
       "<table border=\"1\" class=\"dataframe\">\n",
       "  <thead>\n",
       "    <tr style=\"text-align: right;\">\n",
       "      <th></th>\n",
       "      <th>City</th>\n",
       "      <th>Latitude</th>\n",
       "      <th>Longitude</th>\n",
       "      <th>Max Temperature</th>\n",
       "      <th>Humidity</th>\n",
       "      <th>Cloudiness</th>\n",
       "      <th>Wind Speed</th>\n",
       "      <th>Country</th>\n",
       "      <th>Date</th>\n",
       "    </tr>\n",
       "  </thead>\n",
       "  <tbody>\n",
       "    <tr>\n",
       "      <th>0</th>\n",
       "      <td>Caravelas</td>\n",
       "      <td>-17.7125</td>\n",
       "      <td>-39.2481</td>\n",
       "      <td>85.51</td>\n",
       "      <td>55</td>\n",
       "      <td>0</td>\n",
       "      <td>7.83</td>\n",
       "      <td>BR</td>\n",
       "      <td>1612967282</td>\n",
       "    </tr>\n",
       "    <tr>\n",
       "      <th>1</th>\n",
       "      <td>Kununurra</td>\n",
       "      <td>-15.7667</td>\n",
       "      <td>128.7333</td>\n",
       "      <td>78.80</td>\n",
       "      <td>100</td>\n",
       "      <td>99</td>\n",
       "      <td>3.44</td>\n",
       "      <td>AU</td>\n",
       "      <td>1612967282</td>\n",
       "    </tr>\n",
       "    <tr>\n",
       "      <th>2</th>\n",
       "      <td>Esperance</td>\n",
       "      <td>-33.8667</td>\n",
       "      <td>121.9000</td>\n",
       "      <td>60.80</td>\n",
       "      <td>82</td>\n",
       "      <td>90</td>\n",
       "      <td>6.91</td>\n",
       "      <td>AU</td>\n",
       "      <td>1612967283</td>\n",
       "    </tr>\n",
       "    <tr>\n",
       "      <th>3</th>\n",
       "      <td>Mataura</td>\n",
       "      <td>-46.1927</td>\n",
       "      <td>168.8643</td>\n",
       "      <td>54.14</td>\n",
       "      <td>61</td>\n",
       "      <td>100</td>\n",
       "      <td>13.58</td>\n",
       "      <td>NZ</td>\n",
       "      <td>1612967283</td>\n",
       "    </tr>\n",
       "    <tr>\n",
       "      <th>4</th>\n",
       "      <td>Rikitea</td>\n",
       "      <td>-23.1203</td>\n",
       "      <td>-134.9692</td>\n",
       "      <td>78.13</td>\n",
       "      <td>75</td>\n",
       "      <td>46</td>\n",
       "      <td>9.04</td>\n",
       "      <td>PF</td>\n",
       "      <td>1612967283</td>\n",
       "    </tr>\n",
       "    <tr>\n",
       "      <th>...</th>\n",
       "      <td>...</td>\n",
       "      <td>...</td>\n",
       "      <td>...</td>\n",
       "      <td>...</td>\n",
       "      <td>...</td>\n",
       "      <td>...</td>\n",
       "      <td>...</td>\n",
       "      <td>...</td>\n",
       "      <td>...</td>\n",
       "    </tr>\n",
       "    <tr>\n",
       "      <th>590</th>\n",
       "      <td>Camacupa</td>\n",
       "      <td>-12.0167</td>\n",
       "      <td>17.4833</td>\n",
       "      <td>75.49</td>\n",
       "      <td>73</td>\n",
       "      <td>98</td>\n",
       "      <td>4.27</td>\n",
       "      <td>AO</td>\n",
       "      <td>1612967375</td>\n",
       "    </tr>\n",
       "    <tr>\n",
       "      <th>591</th>\n",
       "      <td>Huangpi</td>\n",
       "      <td>30.8845</td>\n",
       "      <td>114.3779</td>\n",
       "      <td>50.00</td>\n",
       "      <td>100</td>\n",
       "      <td>100</td>\n",
       "      <td>2.24</td>\n",
       "      <td>CN</td>\n",
       "      <td>1612967375</td>\n",
       "    </tr>\n",
       "    <tr>\n",
       "      <th>592</th>\n",
       "      <td>High Level</td>\n",
       "      <td>58.5169</td>\n",
       "      <td>-117.1360</td>\n",
       "      <td>-16.60</td>\n",
       "      <td>76</td>\n",
       "      <td>90</td>\n",
       "      <td>6.91</td>\n",
       "      <td>CA</td>\n",
       "      <td>1612967375</td>\n",
       "    </tr>\n",
       "    <tr>\n",
       "      <th>593</th>\n",
       "      <td>Tommot</td>\n",
       "      <td>58.9564</td>\n",
       "      <td>126.2925</td>\n",
       "      <td>-5.35</td>\n",
       "      <td>88</td>\n",
       "      <td>38</td>\n",
       "      <td>2.30</td>\n",
       "      <td>RU</td>\n",
       "      <td>1612967375</td>\n",
       "    </tr>\n",
       "    <tr>\n",
       "      <th>594</th>\n",
       "      <td>Tolaga Bay</td>\n",
       "      <td>-38.3667</td>\n",
       "      <td>178.3000</td>\n",
       "      <td>65.14</td>\n",
       "      <td>85</td>\n",
       "      <td>100</td>\n",
       "      <td>2.93</td>\n",
       "      <td>NZ</td>\n",
       "      <td>1612967282</td>\n",
       "    </tr>\n",
       "  </tbody>\n",
       "</table>\n",
       "<p>595 rows × 9 columns</p>\n",
       "</div>"
      ],
      "text/plain": [
       "           City  Latitude  Longitude  Max Temperature  Humidity  Cloudiness  \\\n",
       "0     Caravelas  -17.7125   -39.2481            85.51        55           0   \n",
       "1     Kununurra  -15.7667   128.7333            78.80       100          99   \n",
       "2     Esperance  -33.8667   121.9000            60.80        82          90   \n",
       "3       Mataura  -46.1927   168.8643            54.14        61         100   \n",
       "4       Rikitea  -23.1203  -134.9692            78.13        75          46   \n",
       "..          ...       ...        ...              ...       ...         ...   \n",
       "590    Camacupa  -12.0167    17.4833            75.49        73          98   \n",
       "591     Huangpi   30.8845   114.3779            50.00       100         100   \n",
       "592  High Level   58.5169  -117.1360           -16.60        76          90   \n",
       "593      Tommot   58.9564   126.2925            -5.35        88          38   \n",
       "594  Tolaga Bay  -38.3667   178.3000            65.14        85         100   \n",
       "\n",
       "     Wind Speed Country        Date  \n",
       "0          7.83      BR  1612967282  \n",
       "1          3.44      AU  1612967282  \n",
       "2          6.91      AU  1612967283  \n",
       "3         13.58      NZ  1612967283  \n",
       "4          9.04      PF  1612967283  \n",
       "..          ...     ...         ...  \n",
       "590        4.27      AO  1612967375  \n",
       "591        2.24      CN  1612967375  \n",
       "592        6.91      CA  1612967375  \n",
       "593        2.30      RU  1612967375  \n",
       "594        2.93      NZ  1612967282  \n",
       "\n",
       "[595 rows x 9 columns]"
      ]
     },
     "execution_count": 12,
     "metadata": {},
     "output_type": "execute_result"
    }
   ],
   "source": [
    "vacation_df = pd.read_csv(\"output_csv\")\n",
    "\n",
    "vacation_df\n"
   ]
  },
  {
   "cell_type": "markdown",
   "metadata": {},
   "source": [
    "### Humidity Heatmap\n",
    "* Configure gmaps.\n",
    "* Use the Lat and Lng as locations and Humidity as the weight.\n",
    "* Add Heatmap layer to map."
   ]
  },
  {
   "cell_type": "code",
   "execution_count": 23,
   "metadata": {},
   "outputs": [],
   "source": [
    "gmaps.configure(api_key=\"AIzaSyXXXXXXXXXXXXXXXXX\")"
   ]
  },
  {
   "cell_type": "code",
   "execution_count": 31,
   "metadata": {},
   "outputs": [
    {
     "data": {
      "application/vnd.jupyter.widget-view+json": {
       "model_id": "410891d144f0463d83ad8a314464d971",
       "version_major": 2,
       "version_minor": 0
      },
      "text/plain": [
       "Figure(layout=FigureLayout(height='420px'))"
      ]
     },
     "metadata": {},
     "output_type": "display_data"
    }
   ],
   "source": [
    "locations = pd.DataFrame({\n",
    "    \n",
    "    \"Latitude\": vacation_df[\"Latitude\"],\n",
    "    \"Longitude\": vacation_df[\"Longitude\"]})\n",
    "\n",
    "weights = vacation_df[\"Humidity\"]\n",
    "\n",
    "fig = gmaps.figure()\n",
    "\n",
    "fig.add_layer(gmaps.heatmap_layer(locations,weights = weights))\n",
    "\n",
    "fig\n"
   ]
  },
  {
   "cell_type": "markdown",
   "metadata": {},
   "source": [
    "### Create new DataFrame fitting weather criteria\n",
    "* Narrow down the cities to fit weather conditions.\n",
    "* Drop any rows will null values."
   ]
  },
  {
   "cell_type": "code",
   "execution_count": null,
   "metadata": {},
   "outputs": [],
   "source": []
  },
  {
   "cell_type": "markdown",
   "metadata": {},
   "source": [
    "### Hotel Map\n",
    "* Store into variable named `hotel_df`.\n",
    "* Add a \"Hotel Name\" column to the DataFrame.\n",
    "* Set parameters to search for hotels with 5000 meters.\n",
    "* Hit the Google Places API for each city's coordinates.\n",
    "* Store the first Hotel result into the DataFrame.\n",
    "* Plot markers on top of the heatmap."
   ]
  },
  {
   "cell_type": "code",
   "execution_count": null,
   "metadata": {},
   "outputs": [],
   "source": []
  },
  {
   "cell_type": "code",
   "execution_count": null,
   "metadata": {},
   "outputs": [],
   "source": []
  },
  {
   "cell_type": "code",
   "execution_count": null,
   "metadata": {},
   "outputs": [],
   "source": [
    "# NOTE: Do not change any of the code in this cell\n",
    "\n",
    "# Using the template add the hotel marks to the heatmap\n",
    "info_box_template = \"\"\"\n",
    "<dl>\n",
    "<dt>Name</dt><dd>{Hotel Name}</dd>\n",
    "<dt>City</dt><dd>{City}</dd>\n",
    "<dt>Country</dt><dd>{Country}</dd>\n",
    "</dl>\n",
    "\"\"\"\n",
    "# Store the DataFrame Row\n",
    "# NOTE: be sure to update with your DataFrame name\n",
    "hotel_info = [info_box_template.format(**row) for index, row in hotel_df.iterrows()]\n",
    "locations = hotel_df[[\"Lat\", \"Lng\"]]"
   ]
  },
  {
   "cell_type": "code",
   "execution_count": null,
   "metadata": {},
   "outputs": [],
   "source": [
    "# Add marker layer ontop of heat map\n",
    "\n",
    "\n",
    "# Display figure\n"
   ]
  },
  {
   "cell_type": "code",
   "execution_count": null,
   "metadata": {},
   "outputs": [],
   "source": []
  }
 ],
 "metadata": {
  "kernelspec": {
   "display_name": "Python 3",
   "language": "python",
   "name": "python3"
  },
  "language_info": {
   "codemirror_mode": {
    "name": "ipython",
    "version": 3
   },
   "file_extension": ".py",
   "mimetype": "text/x-python",
   "name": "python",
   "nbconvert_exporter": "python",
   "pygments_lexer": "ipython3",
   "version": "3.8.3"
  },
  "latex_envs": {
   "LaTeX_envs_menu_present": true,
   "autoclose": false,
   "autocomplete": true,
   "bibliofile": "biblio.bib",
   "cite_by": "apalike",
   "current_citInitial": 1,
   "eqLabelWithNumbers": true,
   "eqNumInitial": 1,
   "hotkeys": {
    "equation": "Ctrl-E",
    "itemize": "Ctrl-I"
   },
   "labels_anchors": false,
   "latex_user_defs": false,
   "report_style_numbering": false,
   "user_envs_cfg": false
  }
 },
 "nbformat": 4,
 "nbformat_minor": 4
}
